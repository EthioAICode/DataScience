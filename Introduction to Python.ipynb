{
 "cells": [
  {
   "cell_type": "code",
   "execution_count": 1,
   "id": "9bc748a1",
   "metadata": {},
   "outputs": [
    {
     "name": "stdout",
     "output_type": "stream",
     "text": [
      "hello\n"
     ]
    }
   ],
   "source": [
    "print(\"hello\")"
   ]
  },
  {
   "cell_type": "code",
   "execution_count": 2,
   "id": "e3809ece",
   "metadata": {},
   "outputs": [
    {
     "name": "stdout",
     "output_type": "stream",
     "text": [
      "15\n",
      "5\n",
      "50\n",
      "2.0\n",
      "2\n",
      "0\n",
      "100000\n"
     ]
    }
   ],
   "source": [
    "a = 10\n",
    "b = 5\n",
    "# Addition\n",
    "print(a + b)  # Output: 15\n",
    "# Subtraction\n",
    "print(a - b)  # Output: 5\n",
    "# Multiplication\n",
    "print(a * b)  # Output: 50\n",
    "# Division\n",
    "print(a / b)  # Output: 2.0\n",
    "\n",
    "# Integer Division\n",
    "print(a // b)  # Output: 2\n",
    "\n",
    "# Modulo (remainder)\n",
    "print(a % b)  # Output: 0\n",
    "\n",
    "# Exponentiation\n",
    "print(a ** b)  # Output: 100000\n"
   ]
  },
  {
   "cell_type": "code",
   "execution_count": 3,
   "id": "dd4a1ef5",
   "metadata": {},
   "outputs": [],
   "source": [
    "x = 10           # Integer\n",
    "name = \"Jara\"    # String\n",
    "pi = 3.14159      # Float\n",
    "is_active = True  # Boolean\n"
   ]
  }
 ],
 "metadata": {
  "kernelspec": {
   "display_name": "venv",
   "language": "python",
   "name": "python3"
  },
  "language_info": {
   "codemirror_mode": {
    "name": "ipython",
    "version": 3
   },
   "file_extension": ".py",
   "mimetype": "text/x-python",
   "name": "python",
   "nbconvert_exporter": "python",
   "pygments_lexer": "ipython3",
   "version": "3.12.10"
  }
 },
 "nbformat": 4,
 "nbformat_minor": 5
}
