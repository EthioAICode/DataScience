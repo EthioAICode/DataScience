{
 "cells": [
  {
   "cell_type": "code",
   "execution_count": 1,
   "id": "9bc748a1",
   "metadata": {},
   "outputs": [
    {
     "name": "stdout",
     "output_type": "stream",
     "text": [
      "hello\n"
     ]
    }
   ],
   "source": [
    "print(\"hello\")"
   ]
  },
  {
   "cell_type": "code",
   "execution_count": 2,
   "id": "e3809ece",
   "metadata": {},
   "outputs": [
    {
     "name": "stdout",
     "output_type": "stream",
     "text": [
      "15\n",
      "5\n",
      "50\n",
      "2.0\n",
      "2\n",
      "0\n",
      "100000\n"
     ]
    }
   ],
   "source": [
    "a = 10\n",
    "b = 5\n",
    "# Addition\n",
    "print(a + b)  # Output: 15\n",
    "# Subtraction\n",
    "print(a - b)  # Output: 5\n",
    "# Multiplication\n",
    "print(a * b)  # Output: 50\n",
    "# Division\n",
    "print(a / b)  # Output: 2.0\n",
    "\n",
    "# Integer Division\n",
    "print(a // b)  # Output: 2\n",
    "\n",
    "# Modulo (remainder)\n",
    "print(a % b)  # Output: 0\n",
    "\n",
    "# Exponentiation\n",
    "print(a ** b)  # Output: 100000\n"
   ]
  },
  {
   "cell_type": "code",
   "execution_count": 3,
   "id": "dd4a1ef5",
   "metadata": {},
   "outputs": [],
   "source": [
    "x = 10           # Integer\n",
    "name = \"Jara\"    # String\n",
    "pi = 3.14159      # Float\n",
    "is_active = True  # Boolean\n"
   ]
  },
  {
   "cell_type": "code",
   "execution_count": 1,
   "id": "97d9c455",
   "metadata": {},
   "outputs": [],
   "source": [
    "#basic Data Types in Python\n",
    "#int\t5, -10, 2000\tWhole numbers (integers)\n",
    "#float\t3.14, -0.5, 2.0\tNumbers with decimals (floating point)\n",
    "#str\t'hello', \"123\"\tStrings (text)\n",
    "#bool\tTrue, False\tBoolean values (true or false)"
   ]
  },
  {
   "cell_type": "code",
   "execution_count": 2,
   "id": "5fec9648",
   "metadata": {},
   "outputs": [],
   "source": [
    "# Exmaples\n",
    "age =25\n",
    "name=\"Mohammed\"\n",
    "heigh=5.9\n",
    "is_student=True"
   ]
  },
  {
   "cell_type": "code",
   "execution_count": 3,
   "id": "2934c856",
   "metadata": {},
   "outputs": [
    {
     "data": {
      "text/plain": [
       "(25, 'Mohammed', 5.9, True)"
      ]
     },
     "execution_count": 3,
     "metadata": {},
     "output_type": "execute_result"
    }
   ],
   "source": [
    "age,name,heigh,is_student"
   ]
  },
  {
   "cell_type": "code",
   "execution_count": 8,
   "id": "226f58d0",
   "metadata": {},
   "outputs": [
    {
     "name": "stdout",
     "output_type": "stream",
     "text": [
      "<class 'int'>\n",
      "<class 'bool'>\n"
     ]
    }
   ],
   "source": [
    "# identify types of variables using python\n",
    "print(type(age))\n",
    "print(type(is_student))"
   ]
  },
  {
   "cell_type": "code",
   "execution_count": 9,
   "id": "25a8b4cf",
   "metadata": {},
   "outputs": [
    {
     "name": "stdout",
     "output_type": "stream",
     "text": [
      "You entered: 5\n"
     ]
    }
   ],
   "source": [
    "# Get a Number from the User:\n",
    "# Get input from the user\n",
    "user_input = input(\"Enter a number: \")\n",
    "# Convert input to integer\n",
    "number = int(user_input)\n",
    "# You can also do it in one line\n",
    "number = int(input(\"Enter a number: \"))\n",
    "print(\"You entered:\", number)\n"
   ]
  },
  {
   "cell_type": "code",
   "execution_count": 10,
   "id": "5d373ab1",
   "metadata": {},
   "outputs": [
    {
     "name": "stdout",
     "output_type": "stream",
     "text": [
      "you name is Huluka\n"
     ]
    }
   ],
   "source": [
    "# Get character from the user \n",
    "user_input1 =input(\"Enter your name\")\n",
    "name= str(user_input1)\n",
    "print(\"you name is \"+name)"
   ]
  },
  {
   "cell_type": "code",
   "execution_count": null,
   "id": "460cbc68",
   "metadata": {},
   "outputs": [
    {
     "name": "stdout",
     "output_type": "stream",
     "text": [
      "sum of 54 and 87 +  is = 141 \n"
     ]
    }
   ],
   "source": [
    "# accept a number from the keyboard and perform mathematicall operation \n",
    "num1= input(\"Enter the first Number\")\n",
    "num1=int(num1)\n",
    "num2 = input(\"Enter the second number\")\n",
    "num2=int(num2)\n",
    "sum=num1 +num2\n",
    "print(f\"sum of {num1} and {num2} +  is = {sum} \")"
   ]
  },
  {
   "cell_type": "code",
   "execution_count": 16,
   "id": "21cb47d2",
   "metadata": {},
   "outputs": [
    {
     "name": "stdout",
     "output_type": "stream",
     "text": [
      "square of 3.5 is 80.21178022896636\n"
     ]
    }
   ],
   "source": [
    "# accept a decimal number and find their square \n",
    "num1= float(input(\"accept a decimal number\"))\n",
    "square= num1**num1\n",
    "print(f\"square of {num1} is {square}\")"
   ]
  },
  {
   "cell_type": "code",
   "execution_count": 19,
   "id": "7428d4f6",
   "metadata": {},
   "outputs": [
    {
     "name": "stdout",
     "output_type": "stream",
     "text": [
      "21\n",
      "9\n",
      "90\n",
      "11390625\n",
      "3\n",
      "2.5\n",
      "2\n"
     ]
    }
   ],
   "source": [
    "# operators in python \n",
    "a =15 ; b =6\n",
    "print(a+b)\n",
    "print(a-b)\n",
    "print(a*b)\n",
    "print(a**b)\n",
    "print(a%b)\n",
    "print(a/b)\n",
    "print(a//b)"
   ]
  },
  {
   "cell_type": "code",
   "execution_count": 20,
   "id": "fafb4b46",
   "metadata": {},
   "outputs": [
    {
     "name": "stdout",
     "output_type": "stream",
     "text": [
      "True\n"
     ]
    }
   ],
   "source": [
    "#membership operator \n",
    "x= 1,2,3\n",
    "print(2 in x)"
   ]
  },
  {
   "cell_type": "code",
   "execution_count": 21,
   "id": "37b1fe52",
   "metadata": {},
   "outputs": [
    {
     "name": "stdout",
     "output_type": "stream",
     "text": [
      "True\n"
     ]
    }
   ],
   "source": [
    "print(5 not in x)"
   ]
  },
  {
   "cell_type": "code",
   "execution_count": 24,
   "id": "76368e1f",
   "metadata": {},
   "outputs": [
    {
     "name": "stdout",
     "output_type": "stream",
     "text": [
      "True\n",
      "True\n",
      "True\n",
      "False\n"
     ]
    }
   ],
   "source": [
    "#identify operator \n",
    "a = 10\n",
    "b = 10\n",
    "c = 1000\n",
    "d = 1000\n",
    "\n",
    "print(a == b)  \n",
    "print(a is b)  \n",
    "print(c == d)  \n",
    "print(c is d)  "
   ]
  }
 ],
 "metadata": {
  "kernelspec": {
   "display_name": "venv",
   "language": "python",
   "name": "python3"
  },
  "language_info": {
   "codemirror_mode": {
    "name": "ipython",
    "version": 3
   },
   "file_extension": ".py",
   "mimetype": "text/x-python",
   "name": "python",
   "nbconvert_exporter": "python",
   "pygments_lexer": "ipython3",
   "version": "3.12.10"
  }
 },
 "nbformat": 4,
 "nbformat_minor": 5
}
